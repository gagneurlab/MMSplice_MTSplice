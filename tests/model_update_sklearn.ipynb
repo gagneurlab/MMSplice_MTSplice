{
 "cells": [
  {
   "cell_type": "code",
   "execution_count": 1,
   "id": "b5bdc3f0",
   "metadata": {},
   "outputs": [
    {
     "name": "stderr",
     "output_type": "stream",
     "text": [
      "2021-12-24 20:39:12.116866: W tensorflow/stream_executor/platform/default/dso_loader.cc:64] Could not load dynamic library 'libcudart.so.11.0'; dlerror: libcudart.so.11.0: cannot open shared object file: No such file or directory; LD_LIBRARY_PATH: /home/cs/.seq/lib/seq:\n",
      "2021-12-24 20:39:12.116892: I tensorflow/stream_executor/cuda/cudart_stub.cc:29] Ignore above cudart dlerror if you do not have a GPU set up on your machine.\n"
     ]
    }
   ],
   "source": [
    "import numpy as np\n",
    "import matplotlib.pyplot as plt\n",
    "from sklearn.externals import joblib\n",
    "from pkg_resources import resource_filename\n",
    "from mmsplice.utils import LINEAR_MODEL, LOGISTIC_MODEL, EFFICIENCY_MODEL"
   ]
  },
  {
   "cell_type": "code",
   "execution_count": 12,
   "id": "59dbe560",
   "metadata": {},
   "outputs": [],
   "source": [
    "sklearn_LINEAR_MODEL = joblib.load(resource_filename(\n",
    "    'mmsplice', 'models/linear_model.pkl'))\n",
    "sklearn_EFFICIENCY_MODEL = joblib.load(resource_filename(\n",
    "    'mmsplice', 'models/splicing_efficiency.pkl'))\n",
    "sklearn_LOGISTIC_MODEL = joblib.load(resource_filename(\n",
    "    'mmsplice', 'models/Pathogenicity.pkl'))"
   ]
  },
  {
   "cell_type": "code",
   "execution_count": 3,
   "id": "69261993",
   "metadata": {},
   "outputs": [
    {
     "data": {
      "text/plain": [
       "[<matplotlib.lines.Line2D at 0x7f1ae0bf1750>]"
      ]
     },
     "execution_count": 3,
     "metadata": {},
     "output_type": "execute_result"
    },
    {
     "data": {
      "image/png": "[encoded data removed]",
      "text/plain": [
       "<Figure size 432x288 with 1 Axes>"
      ]
     },
     "metadata": {
      "needs_background": "light"
     },
     "output_type": "display_data"
    }
   ],
   "source": [
    "X = np.random.rand(100, 8) - np.random.rand(100, 8)\n",
    "plt.plot(\n",
    "    sklearn_LINEAR_MODEL.predict(X),\n",
    "    LINEAR_MODEL.predict(X),\n",
    ")"
   ]
  },
  {
   "cell_type": "code",
   "execution_count": 4,
   "id": "35cea292",
   "metadata": {},
   "outputs": [
    {
     "data": {
      "text/plain": [
       "array([ 4.00030545e+00, -1.54563637e+00,  2.76239081e-01,  7.15887000e-01,\n",
       "       -2.81413684e-01,  1.64670478e+00, -1.18672293e+00, -2.04919621e+00,\n",
       "        1.72327564e+00,  5.32222464e-02, -1.37800272e+00,  6.48963530e-02,\n",
       "        1.70571494e+00, -1.67531157e+00,  7.84291362e-01,  3.72240888e+00,\n",
       "        1.00673715e+00, -6.69892830e-01, -5.53013374e-01,  5.65582928e-01,\n",
       "       -8.99663409e-01,  2.79545256e+00, -1.14435077e+00, -3.50676540e-01,\n",
       "        1.97168322e+00, -6.98707089e-01,  1.24141764e+00,  2.05922373e+00,\n",
       "       -8.37964038e-01,  3.89330695e+00, -1.21872413e+00, -5.80657411e-01,\n",
       "       -6.83339671e-01, -2.14856750e+00,  2.33255626e+00, -2.09815787e-01,\n",
       "       -2.91687429e-01, -1.56375092e+00, -4.54469361e-01, -2.48179990e-03,\n",
       "       -1.11361568e+00,  1.64779952e+00,  2.51381354e+00,  2.22232348e+00,\n",
       "       -7.45712883e-01,  9.81163166e-01,  6.03831986e-01,  1.66636257e+00,\n",
       "       -9.28231861e-02, -6.53392752e-01, -1.40017111e+00,  3.01916280e+00,\n",
       "        6.98707211e-01,  2.09449933e+00,  1.14519278e+00,  2.10700828e-01,\n",
       "       -2.17198339e+00, -3.02800876e-01,  2.85227672e+00, -1.01716545e+00,\n",
       "       -3.11580882e+00,  1.24898344e+00, -6.03507539e-01, -1.23611872e+00,\n",
       "       -9.18330825e-01,  9.83123325e-01,  1.48805133e+00,  6.75628845e-01,\n",
       "        1.32458246e+00, -2.52741433e+00,  7.57930036e-01,  2.23282909e+00,\n",
       "        4.10694563e-01,  3.67086791e-02, -1.55202488e+00, -1.15062807e+00,\n",
       "        1.25386444e-01,  1.45593094e+00, -7.81801401e-01,  1.80525100e+00,\n",
       "        2.69278393e+00, -1.82507044e-02,  1.12554916e-01, -1.59074795e+00,\n",
       "        1.31506081e+00, -1.23733515e+00, -1.28178479e-01, -2.04398062e-01,\n",
       "        2.21375258e+00,  2.03109250e+00,  1.22820147e+00, -1.40332073e+00,\n",
       "       -3.23543484e+00,  2.03747816e-01, -2.33438940e+00, -1.85668936e+00,\n",
       "        1.39472829e-01, -2.28129226e+00,  1.30064160e+00,  3.49747279e-01])"
      ]
     },
     "execution_count": 4,
     "metadata": {},
     "output_type": "execute_result"
    }
   ],
   "source": [
    "sklearn_LINEAR_MODEL.predict(X)"
   ]
  },
  {
   "cell_type": "code",
   "execution_count": 5,
   "id": "3809ef28",
   "metadata": {},
   "outputs": [
    {
     "data": {
      "text/plain": [
       "array([ 4.00030545e+00, -1.54563637e+00,  2.76239083e-01,  7.15886997e-01,\n",
       "       -2.81413683e-01,  1.64670478e+00, -1.18672293e+00, -2.04919620e+00,\n",
       "        1.72327564e+00,  5.32222469e-02, -1.37800272e+00,  6.48963505e-02,\n",
       "        1.70571493e+00, -1.67531157e+00,  7.84291364e-01,  3.72240888e+00,\n",
       "        1.00673715e+00, -6.69892823e-01, -5.53013377e-01,  5.65582922e-01,\n",
       "       -8.99663412e-01,  2.79545255e+00, -1.14435077e+00, -3.50676541e-01,\n",
       "        1.97168322e+00, -6.98707089e-01,  1.24141764e+00,  2.05922373e+00,\n",
       "       -8.37964032e-01,  3.89330695e+00, -1.21872413e+00, -5.80657405e-01,\n",
       "       -6.83339671e-01, -2.14856750e+00,  2.33255626e+00, -2.09815787e-01,\n",
       "       -2.91687424e-01, -1.56375092e+00, -4.54469362e-01, -2.48179713e-03,\n",
       "       -1.11361568e+00,  1.64779952e+00,  2.51381354e+00,  2.22232347e+00,\n",
       "       -7.45712879e-01,  9.81163166e-01,  6.03831984e-01,  1.66636257e+00,\n",
       "       -9.28231831e-02, -6.53392751e-01, -1.40017110e+00,  3.01916279e+00,\n",
       "        6.98707205e-01,  2.09449933e+00,  1.14519278e+00,  2.10700832e-01,\n",
       "       -2.17198339e+00, -3.02800874e-01,  2.85227671e+00, -1.01716545e+00,\n",
       "       -3.11580882e+00,  1.24898344e+00, -6.03507543e-01, -1.23611871e+00,\n",
       "       -9.18330826e-01,  9.83123327e-01,  1.48805133e+00,  6.75628843e-01,\n",
       "        1.32458245e+00, -2.52741432e+00,  7.57930040e-01,  2.23282909e+00,\n",
       "        4.10694563e-01,  3.67086771e-02, -1.55202488e+00, -1.15062807e+00,\n",
       "        1.25386443e-01,  1.45593094e+00, -7.81801397e-01,  1.80525100e+00,\n",
       "        2.69278393e+00, -1.82507013e-02,  1.12554916e-01, -1.59074795e+00,\n",
       "        1.31506081e+00, -1.23733515e+00, -1.28178480e-01, -2.04398060e-01,\n",
       "        2.21375258e+00,  2.03109249e+00,  1.22820146e+00, -1.40332073e+00,\n",
       "       -3.23543484e+00,  2.03747813e-01, -2.33438940e+00, -1.85668936e+00,\n",
       "        1.39472829e-01, -2.28129226e+00,  1.30064160e+00,  3.49747277e-01])"
      ]
     },
     "execution_count": 5,
     "metadata": {},
     "output_type": "execute_result"
    }
   ],
   "source": [
    "LINEAR_MODEL.predict(X)"
   ]
  },
  {
   "cell_type": "code",
   "execution_count": 6,
   "id": "d975258f",
   "metadata": {},
   "outputs": [
    {
     "data": {
      "text/plain": [
       "[<matplotlib.lines.Line2D at 0x7f1adeaae550>]"
      ]
     },
     "execution_count": 6,
     "metadata": {},
     "output_type": "execute_result"
    },
    {
     "data": {
      "image/png": "[encoded data removed]",
      "text/plain": [
       "<Figure size 432x288 with 1 Axes>"
      ]
     },
     "metadata": {
      "needs_background": "light"
     },
     "output_type": "display_data"
    }
   ],
   "source": [
    "X = np.random.rand(100, 4) - np.random.rand(100, 4)\n",
    "plt.plot(\n",
    "    sklearn_EFFICIENCY_MODEL.predict(X),\n",
    "    EFFICIENCY_MODEL.predict(X),\n",
    ")"
   ]
  },
  {
   "cell_type": "code",
   "execution_count": 7,
   "id": "ee78cd18",
   "metadata": {},
   "outputs": [
    {
     "data": {
      "text/plain": [
       "array([ 3.09330052, -0.21592642, -1.65266153, -1.7202353 , -3.74612464,\n",
       "       -2.0893123 ,  0.81409262,  2.93625444, -0.29744241,  1.09242546,\n",
       "       -1.46675441, -3.37436109, -2.72757026, -0.54850395,  2.1808708 ,\n",
       "        0.29322538,  1.56022283, -1.89912849,  0.36744467, -0.05422776,\n",
       "       -1.57517062, -1.98702671, -1.65258821,  0.01877005,  1.85022535,\n",
       "        0.4887283 , -1.12662078,  2.34428165,  1.23483536,  1.76179482,\n",
       "       -1.74927911,  2.07631647, -4.06176677, -0.9525008 , -2.44288439,\n",
       "       -1.54078727, -3.01968411, -2.2077457 , -0.30039926, -1.81138836,\n",
       "       -1.65937575, -0.62028412,  2.31629388,  0.06128971,  1.90685295,\n",
       "        1.16802182, -0.59744581,  3.35614443,  1.51346781, -1.47460379,\n",
       "       -1.41419931, -0.68348005,  0.64328554,  1.41103789, -1.92685175,\n",
       "       -0.15140081, -0.29882029, -3.38389524, -0.61919328, -0.71009441,\n",
       "       -3.52100659, -1.07238422, -0.12384125,  1.42196637, -1.28544701,\n",
       "        0.03616638,  0.29430575, -0.1870789 ,  0.13514067, -0.37187336,\n",
       "       -1.48879734,  2.1423199 , -1.94647365,  0.37992288, -0.70386569,\n",
       "        0.06867993,  0.39621138, -0.63501895, -2.49924074,  3.1442009 ,\n",
       "       -1.35192748, -1.74517012,  1.21418285,  0.1831128 , -0.39162836,\n",
       "       -1.2559383 , -3.41803554,  1.08835882,  0.21838847,  1.77731597,\n",
       "        1.76672756, -1.25635142,  0.42919653,  3.03114504, -2.27024721,\n",
       "        3.56470081,  4.23896612,  0.13922722, -0.86171044, -0.01729672])"
      ]
     },
     "execution_count": 7,
     "metadata": {},
     "output_type": "execute_result"
    }
   ],
   "source": [
    "sklearn_EFFICIENCY_MODEL.predict(X)"
   ]
  },
  {
   "cell_type": "code",
   "execution_count": 8,
   "id": "c91d6bbc",
   "metadata": {},
   "outputs": [
    {
     "data": {
      "text/plain": [
       "array([ 3.09330053, -0.21592642, -1.65266154, -1.7202353 , -3.74612463,\n",
       "       -2.0893123 ,  0.81409262,  2.93625444, -0.29744241,  1.09242546,\n",
       "       -1.46675441, -3.37436109, -2.72757026, -0.54850394,  2.1808708 ,\n",
       "        0.29322538,  1.56022283, -1.89912849,  0.36744467, -0.05422776,\n",
       "       -1.57517063, -1.98702671, -1.65258821,  0.01877005,  1.85022535,\n",
       "        0.4887283 , -1.12662077,  2.34428164,  1.23483536,  1.76179482,\n",
       "       -1.74927911,  2.07631646, -4.06176677, -0.9525008 , -2.44288439,\n",
       "       -1.54078727, -3.01968411, -2.2077457 , -0.30039926, -1.81138836,\n",
       "       -1.65937575, -0.62028413,  2.31629388,  0.06128971,  1.90685295,\n",
       "        1.16802182, -0.5974458 ,  3.35614443,  1.51346781, -1.47460379,\n",
       "       -1.41419932, -0.68348005,  0.64328554,  1.41103789, -1.92685175,\n",
       "       -0.15140081, -0.29882029, -3.38389525, -0.61919328, -0.71009441,\n",
       "       -3.52100659, -1.07238422, -0.12384125,  1.42196637, -1.28544701,\n",
       "        0.03616638,  0.29430574, -0.1870789 ,  0.13514068, -0.37187336,\n",
       "       -1.48879735,  2.1423199 , -1.94647365,  0.37992288, -0.70386569,\n",
       "        0.06867994,  0.39621138, -0.63501895, -2.49924074,  3.14420089,\n",
       "       -1.35192748, -1.74517012,  1.21418285,  0.1831128 , -0.39162836,\n",
       "       -1.2559383 , -3.41803554,  1.08835882,  0.21838847,  1.77731597,\n",
       "        1.76672756, -1.25635142,  0.42919652,  3.03114504, -2.27024721,\n",
       "        3.56470081,  4.23896612,  0.13922722, -0.86171045, -0.01729673])"
      ]
     },
     "execution_count": 8,
     "metadata": {},
     "output_type": "execute_result"
    }
   ],
   "source": [
    "EFFICIENCY_MODEL.predict(X)"
   ]
  },
  {
   "cell_type": "code",
   "execution_count": 9,
   "id": "84a42b0b",
   "metadata": {},
   "outputs": [
    {
     "data": {
      "text/plain": [
       "[<matplotlib.lines.Line2D at 0x7f1adea2b8d0>]"
      ]
     },
     "execution_count": 9,
     "metadata": {},
     "output_type": "execute_result"
    },
    {
     "data": {
      "image/png": "[encoded data removed]",
      "text/plain": [
       "<Figure size 432x288 with 1 Axes>"
      ]
     },
     "metadata": {
      "needs_background": "light"
     },
     "output_type": "display_data"
    }
   ],
   "source": [
    "X = np.random.rand(100, 13) - np.random.rand(100, 13)\n",
    "plt.plot(\n",
    "    sklearn_LOGISTIC_MODEL.predict_proba(X)[:, 1],\n",
    "    LOGISTIC_MODEL.predict_proba(X)\n",
    ")"
   ]
  },
  {
   "cell_type": "code",
   "execution_count": 10,
   "id": "14e342de",
   "metadata": {},
   "outputs": [
    {
     "data": {
      "text/plain": [
       "array([0.74856619, 0.91800776, 0.77570088, 0.94749793, 0.58365168,\n",
       "       0.97261521, 0.98214927, 0.19351216, 0.98561593, 0.99644314,\n",
       "       0.603727  , 0.06794245, 0.97371562, 0.41336472, 0.45329455,\n",
       "       0.64385947, 0.92296396, 0.18444112, 0.91219135, 0.65394059,\n",
       "       0.84089506, 0.0049983 , 0.62530542, 0.87061405, 0.98999828,\n",
       "       0.95745861, 0.63775138, 0.9999455 , 0.98845378, 0.56589384,\n",
       "       0.92681395, 0.71292183, 0.86798679, 0.27069962, 0.8473421 ,\n",
       "       0.67269249, 0.82250781, 0.64106372, 0.97419461, 0.99172887,\n",
       "       0.9626896 , 0.18875809, 0.34795671, 0.99609683, 0.94583231,\n",
       "       0.23483721, 0.49176575, 0.08224986, 0.41427045, 0.82391432,\n",
       "       0.06156477, 0.0370946 , 0.99053919, 0.08749584, 0.38778973,\n",
       "       0.18331899, 0.49576134, 0.04616905, 0.76725569, 0.02109345,\n",
       "       0.02476073, 0.08271293, 0.40737387, 0.29618422, 0.90540756,\n",
       "       0.68411313, 0.8407314 , 0.94609101, 0.88853329, 0.97154144,\n",
       "       0.00664634, 0.99612891, 0.73359015, 0.70263045, 0.28758385,\n",
       "       0.69357742, 0.99246571, 0.95255543, 0.6225771 , 0.7475169 ,\n",
       "       0.03551002, 0.53465947, 0.13402374, 0.83389339, 0.07303674,\n",
       "       0.37353875, 0.14483392, 0.06655744, 0.96833825, 0.75518823,\n",
       "       0.87380566, 0.83241346, 0.81865342, 0.87188883, 0.38429742,\n",
       "       0.92015232, 0.93309267, 0.97764256, 0.82882815, 0.63373968])"
      ]
     },
     "execution_count": 10,
     "metadata": {},
     "output_type": "execute_result"
    }
   ],
   "source": [
    "sklearn_LOGISTIC_MODEL.predict_proba(X)[:, 1]"
   ]
  },
  {
   "cell_type": "code",
   "execution_count": 11,
   "id": "49cd53e8",
   "metadata": {},
   "outputs": [
    {
     "data": {
      "text/plain": [
       "array([0.74856619, 0.91800776, 0.77570088, 0.94749793, 0.58365168,\n",
       "       0.97261521, 0.98214927, 0.19351216, 0.98561593, 0.99644314,\n",
       "       0.60372699, 0.06794245, 0.97371562, 0.41336472, 0.45329454,\n",
       "       0.64385947, 0.92296396, 0.18444112, 0.91219135, 0.65394059,\n",
       "       0.84089505, 0.0049983 , 0.62530542, 0.87061405, 0.98999828,\n",
       "       0.95745861, 0.63775138, 0.9999455 , 0.98845378, 0.56589384,\n",
       "       0.92681395, 0.71292183, 0.86798679, 0.27069962, 0.8473421 ,\n",
       "       0.67269249, 0.82250781, 0.64106372, 0.97419461, 0.99172887,\n",
       "       0.9626896 , 0.18875808, 0.34795671, 0.99609683, 0.94583231,\n",
       "       0.23483721, 0.49176575, 0.08224986, 0.41427044, 0.82391432,\n",
       "       0.06156477, 0.0370946 , 0.99053919, 0.08749584, 0.38778973,\n",
       "       0.18331899, 0.49576134, 0.04616905, 0.76725569, 0.02109345,\n",
       "       0.02476073, 0.08271293, 0.40737387, 0.29618422, 0.90540756,\n",
       "       0.68411313, 0.8407314 , 0.94609101, 0.88853329, 0.97154144,\n",
       "       0.00664634, 0.99612891, 0.73359015, 0.70263045, 0.28758385,\n",
       "       0.69357742, 0.99246571, 0.95255543, 0.6225771 , 0.74751689,\n",
       "       0.03551002, 0.53465947, 0.13402374, 0.83389339, 0.07303674,\n",
       "       0.37353875, 0.14483392, 0.06655744, 0.96833825, 0.75518823,\n",
       "       0.87380566, 0.83241345, 0.81865342, 0.87188883, 0.38429742,\n",
       "       0.92015232, 0.93309267, 0.97764256, 0.82882815, 0.63373968])"
      ]
     },
     "execution_count": 11,
     "metadata": {},
     "output_type": "execute_result"
    }
   ],
   "source": [
    "LOGISTIC_MODEL.predict_proba(X)"
   ]
  }
 ],
 "metadata": {
  "kernelspec": {
   "display_name": "Python 3 (ipykernel)",
   "language": "python",
   "name": "python3"
  },
  "language_info": {
   "codemirror_mode": {
    "name": "ipython",
    "version": 3
   },
   "file_extension": ".py",
   "mimetype": "text/x-python",
   "name": "python",
   "nbconvert_exporter": "python",
   "pygments_lexer": "ipython3",
   "version": "3.7.11"
  }
 },
 "nbformat": 4,
 "nbformat_minor": 5
}
